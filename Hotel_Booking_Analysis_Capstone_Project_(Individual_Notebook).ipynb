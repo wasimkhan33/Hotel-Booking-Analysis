{
  "nbformat": 4,
  "nbformat_minor": 0,
  "metadata": {
    "colab": {
      "name": "Hotel Booking Analysis - Capstone Project (Individual Notebook).ipynb",
      "provenance": [],
      "collapsed_sections": [],
      "mount_file_id": "1HWVgYMdOFymn1WYOKXdjgI5e22ZCkcye",
      "authorship_tag": "ABX9TyNiEhYXlqFEysTL34VdGJ9f",
      "include_colab_link": true
    },
    "kernelspec": {
      "name": "python3",
      "display_name": "Python 3"
    }
  },
  "cells": [
    {
      "cell_type": "markdown",
      "metadata": {
        "id": "view-in-github",
        "colab_type": "text"
      },
      "source": [
        "<a href=\"https://colab.research.google.com/github/wasimkhan33/Hotel-Booking-Analysis/blob/main/Hotel_Booking_Analysis_Capstone_Project_(Individual_Notebook).ipynb\" target=\"_parent\"><img src=\"https://colab.research.google.com/assets/colab-badge.svg\" alt=\"Open In Colab\"/></a>"
      ]
    },
    {
      "cell_type": "markdown",
      "metadata": {
        "id": "616GAR3Xoova"
      },
      "source": [
        "## <b> Have you ever wondered when the best time of year to book a hotel room is? Or the optimal length of stay in order to get the best daily rate? What if you wanted to predict whether or not a hotel was likely to receive a disproportionately high number of special requests? This hotel booking dataset can help you explore those questions!\n",
        "\n",
        "## <b>This data set contains booking information for a city hotel and a resort hotel, and includes information such as when the booking was made, length of stay, the number of adults, children, and/or babies, and the number of available parking spaces, among other things. All personally identifying information has been removed from the data. </b>\n",
        "\n",
        "## <b> Explore and analyze the data to discover important factors that govern the bookings. </b>"
      ]
    },
    {
      "cell_type": "markdown",
      "metadata": {
        "id": "DdU9IZSLGH4l"
      },
      "source": [
        "We will try to analysis this data by giving answer to this following Questions\n",
        "\n",
        "1.   How Many Booking Were Cancelled?\n",
        "2.   What is the booking ratio between Resort Hotel and City Hotel?\n",
        "3.   What is the percentage of booking for each year?\n",
        "4.   Which is the busiest month for hotels?\n",
        "5.   From which country most guests come?\n",
        "6.   How Long People Stay in the hotel?\n",
        "7.   Which was the most booked accommodation type (Single, Couple, Family)?\n",
        "\n",
        "\n",
        "\n",
        "\n",
        "\n",
        "\n",
        "\n",
        "\n"
      ]
    },
    {
      "cell_type": "code",
      "metadata": {
        "id": "onYiT1SNHg17"
      },
      "source": [
        "# First Importing necessary packages and importing the dataset\n",
        "\n",
        "import numpy as np\n",
        "import pandas as pd\n",
        "import matplotlib.pyplot as plt\n",
        "import seaborn as sns"
      ],
      "execution_count": null,
      "outputs": []
    },
    {
      "cell_type": "code",
      "metadata": {
        "id": "CRMZLCzjHpv6"
      },
      "source": [
        "data = pd.read_csv('/content/drive/MyDrive/Hotel Booking Analysis/Hotel Bookings.csv')"
      ],
      "execution_count": null,
      "outputs": []
    },
    {
      "cell_type": "code",
      "metadata": {
        "colab": {
          "base_uri": "https://localhost:8080/",
          "height": 300
        },
        "id": "BsnAI36eKBey",
        "outputId": "63b8aa20-c310-4c65-d45b-593bd308d4db"
      },
      "source": [
        "data.head()"
      ],
      "execution_count": null,
      "outputs": [
        {
          "output_type": "execute_result",
          "data": {
            "text/html": [
              "<div>\n",
              "<style scoped>\n",
              "    .dataframe tbody tr th:only-of-type {\n",
              "        vertical-align: middle;\n",
              "    }\n",
              "\n",
              "    .dataframe tbody tr th {\n",
              "        vertical-align: top;\n",
              "    }\n",
              "\n",
              "    .dataframe thead th {\n",
              "        text-align: right;\n",
              "    }\n",
              "</style>\n",
              "<table border=\"1\" class=\"dataframe\">\n",
              "  <thead>\n",
              "    <tr style=\"text-align: right;\">\n",
              "      <th></th>\n",
              "      <th>hotel</th>\n",
              "      <th>is_canceled</th>\n",
              "      <th>lead_time</th>\n",
              "      <th>arrival_date_year</th>\n",
              "      <th>arrival_date_month</th>\n",
              "      <th>arrival_date_week_number</th>\n",
              "      <th>arrival_date_day_of_month</th>\n",
              "      <th>stays_in_weekend_nights</th>\n",
              "      <th>stays_in_week_nights</th>\n",
              "      <th>adults</th>\n",
              "      <th>children</th>\n",
              "      <th>babies</th>\n",
              "      <th>meal</th>\n",
              "      <th>country</th>\n",
              "      <th>market_segment</th>\n",
              "      <th>distribution_channel</th>\n",
              "      <th>is_repeated_guest</th>\n",
              "      <th>previous_cancellations</th>\n",
              "      <th>previous_bookings_not_canceled</th>\n",
              "      <th>reserved_room_type</th>\n",
              "      <th>assigned_room_type</th>\n",
              "      <th>booking_changes</th>\n",
              "      <th>deposit_type</th>\n",
              "      <th>agent</th>\n",
              "      <th>company</th>\n",
              "      <th>days_in_waiting_list</th>\n",
              "      <th>customer_type</th>\n",
              "      <th>adr</th>\n",
              "      <th>required_car_parking_spaces</th>\n",
              "      <th>total_of_special_requests</th>\n",
              "      <th>reservation_status</th>\n",
              "      <th>reservation_status_date</th>\n",
              "    </tr>\n",
              "  </thead>\n",
              "  <tbody>\n",
              "    <tr>\n",
              "      <th>0</th>\n",
              "      <td>Resort Hotel</td>\n",
              "      <td>0</td>\n",
              "      <td>342</td>\n",
              "      <td>2015</td>\n",
              "      <td>July</td>\n",
              "      <td>27</td>\n",
              "      <td>1</td>\n",
              "      <td>0</td>\n",
              "      <td>0</td>\n",
              "      <td>2</td>\n",
              "      <td>0.0</td>\n",
              "      <td>0</td>\n",
              "      <td>BB</td>\n",
              "      <td>PRT</td>\n",
              "      <td>Direct</td>\n",
              "      <td>Direct</td>\n",
              "      <td>0</td>\n",
              "      <td>0</td>\n",
              "      <td>0</td>\n",
              "      <td>C</td>\n",
              "      <td>C</td>\n",
              "      <td>3</td>\n",
              "      <td>No Deposit</td>\n",
              "      <td>NaN</td>\n",
              "      <td>NaN</td>\n",
              "      <td>0</td>\n",
              "      <td>Transient</td>\n",
              "      <td>0.0</td>\n",
              "      <td>0</td>\n",
              "      <td>0</td>\n",
              "      <td>Check-Out</td>\n",
              "      <td>2015-07-01</td>\n",
              "    </tr>\n",
              "    <tr>\n",
              "      <th>1</th>\n",
              "      <td>Resort Hotel</td>\n",
              "      <td>0</td>\n",
              "      <td>737</td>\n",
              "      <td>2015</td>\n",
              "      <td>July</td>\n",
              "      <td>27</td>\n",
              "      <td>1</td>\n",
              "      <td>0</td>\n",
              "      <td>0</td>\n",
              "      <td>2</td>\n",
              "      <td>0.0</td>\n",
              "      <td>0</td>\n",
              "      <td>BB</td>\n",
              "      <td>PRT</td>\n",
              "      <td>Direct</td>\n",
              "      <td>Direct</td>\n",
              "      <td>0</td>\n",
              "      <td>0</td>\n",
              "      <td>0</td>\n",
              "      <td>C</td>\n",
              "      <td>C</td>\n",
              "      <td>4</td>\n",
              "      <td>No Deposit</td>\n",
              "      <td>NaN</td>\n",
              "      <td>NaN</td>\n",
              "      <td>0</td>\n",
              "      <td>Transient</td>\n",
              "      <td>0.0</td>\n",
              "      <td>0</td>\n",
              "      <td>0</td>\n",
              "      <td>Check-Out</td>\n",
              "      <td>2015-07-01</td>\n",
              "    </tr>\n",
              "    <tr>\n",
              "      <th>2</th>\n",
              "      <td>Resort Hotel</td>\n",
              "      <td>0</td>\n",
              "      <td>7</td>\n",
              "      <td>2015</td>\n",
              "      <td>July</td>\n",
              "      <td>27</td>\n",
              "      <td>1</td>\n",
              "      <td>0</td>\n",
              "      <td>1</td>\n",
              "      <td>1</td>\n",
              "      <td>0.0</td>\n",
              "      <td>0</td>\n",
              "      <td>BB</td>\n",
              "      <td>GBR</td>\n",
              "      <td>Direct</td>\n",
              "      <td>Direct</td>\n",
              "      <td>0</td>\n",
              "      <td>0</td>\n",
              "      <td>0</td>\n",
              "      <td>A</td>\n",
              "      <td>C</td>\n",
              "      <td>0</td>\n",
              "      <td>No Deposit</td>\n",
              "      <td>NaN</td>\n",
              "      <td>NaN</td>\n",
              "      <td>0</td>\n",
              "      <td>Transient</td>\n",
              "      <td>75.0</td>\n",
              "      <td>0</td>\n",
              "      <td>0</td>\n",
              "      <td>Check-Out</td>\n",
              "      <td>2015-07-02</td>\n",
              "    </tr>\n",
              "    <tr>\n",
              "      <th>3</th>\n",
              "      <td>Resort Hotel</td>\n",
              "      <td>0</td>\n",
              "      <td>13</td>\n",
              "      <td>2015</td>\n",
              "      <td>July</td>\n",
              "      <td>27</td>\n",
              "      <td>1</td>\n",
              "      <td>0</td>\n",
              "      <td>1</td>\n",
              "      <td>1</td>\n",
              "      <td>0.0</td>\n",
              "      <td>0</td>\n",
              "      <td>BB</td>\n",
              "      <td>GBR</td>\n",
              "      <td>Corporate</td>\n",
              "      <td>Corporate</td>\n",
              "      <td>0</td>\n",
              "      <td>0</td>\n",
              "      <td>0</td>\n",
              "      <td>A</td>\n",
              "      <td>A</td>\n",
              "      <td>0</td>\n",
              "      <td>No Deposit</td>\n",
              "      <td>304.0</td>\n",
              "      <td>NaN</td>\n",
              "      <td>0</td>\n",
              "      <td>Transient</td>\n",
              "      <td>75.0</td>\n",
              "      <td>0</td>\n",
              "      <td>0</td>\n",
              "      <td>Check-Out</td>\n",
              "      <td>2015-07-02</td>\n",
              "    </tr>\n",
              "    <tr>\n",
              "      <th>4</th>\n",
              "      <td>Resort Hotel</td>\n",
              "      <td>0</td>\n",
              "      <td>14</td>\n",
              "      <td>2015</td>\n",
              "      <td>July</td>\n",
              "      <td>27</td>\n",
              "      <td>1</td>\n",
              "      <td>0</td>\n",
              "      <td>2</td>\n",
              "      <td>2</td>\n",
              "      <td>0.0</td>\n",
              "      <td>0</td>\n",
              "      <td>BB</td>\n",
              "      <td>GBR</td>\n",
              "      <td>Online TA</td>\n",
              "      <td>TA/TO</td>\n",
              "      <td>0</td>\n",
              "      <td>0</td>\n",
              "      <td>0</td>\n",
              "      <td>A</td>\n",
              "      <td>A</td>\n",
              "      <td>0</td>\n",
              "      <td>No Deposit</td>\n",
              "      <td>240.0</td>\n",
              "      <td>NaN</td>\n",
              "      <td>0</td>\n",
              "      <td>Transient</td>\n",
              "      <td>98.0</td>\n",
              "      <td>0</td>\n",
              "      <td>1</td>\n",
              "      <td>Check-Out</td>\n",
              "      <td>2015-07-03</td>\n",
              "    </tr>\n",
              "  </tbody>\n",
              "</table>\n",
              "</div>"
            ],
            "text/plain": [
              "          hotel  is_canceled  ...  reservation_status  reservation_status_date\n",
              "0  Resort Hotel            0  ...           Check-Out               2015-07-01\n",
              "1  Resort Hotel            0  ...           Check-Out               2015-07-01\n",
              "2  Resort Hotel            0  ...           Check-Out               2015-07-02\n",
              "3  Resort Hotel            0  ...           Check-Out               2015-07-02\n",
              "4  Resort Hotel            0  ...           Check-Out               2015-07-03\n",
              "\n",
              "[5 rows x 32 columns]"
            ]
          },
          "metadata": {
            "tags": []
          },
          "execution_count": 3
        }
      ]
    },
    {
      "cell_type": "code",
      "metadata": {
        "colab": {
          "base_uri": "https://localhost:8080/"
        },
        "id": "ReAI6Xtu2MV5",
        "outputId": "cfb050e2-f955-48d7-cb34-5c2359570c7e"
      },
      "source": [
        "data.shape"
      ],
      "execution_count": null,
      "outputs": [
        {
          "output_type": "execute_result",
          "data": {
            "text/plain": [
              "(119390, 32)"
            ]
          },
          "metadata": {
            "tags": []
          },
          "execution_count": 4
        }
      ]
    },
    {
      "cell_type": "code",
      "metadata": {
        "id": "25N-jmjrKN63"
      },
      "source": [
        "df = data.copy()"
      ],
      "execution_count": null,
      "outputs": []
    },
    {
      "cell_type": "code",
      "metadata": {
        "colab": {
          "base_uri": "https://localhost:8080/"
        },
        "id": "O9YdY8LWpHBn",
        "outputId": "c2c4d02f-3375-4d05-8d71-d3a55142e4d6"
      },
      "source": [
        "df.columns"
      ],
      "execution_count": null,
      "outputs": [
        {
          "output_type": "execute_result",
          "data": {
            "text/plain": [
              "Index(['hotel', 'is_canceled', 'lead_time', 'arrival_date_year',\n",
              "       'arrival_date_month', 'arrival_date_week_number',\n",
              "       'arrival_date_day_of_month', 'stays_in_weekend_nights',\n",
              "       'stays_in_week_nights', 'adults', 'children', 'babies', 'meal',\n",
              "       'country', 'market_segment', 'distribution_channel',\n",
              "       'is_repeated_guest', 'previous_cancellations',\n",
              "       'previous_bookings_not_canceled', 'reserved_room_type',\n",
              "       'assigned_room_type', 'booking_changes', 'deposit_type', 'agent',\n",
              "       'company', 'days_in_waiting_list', 'customer_type', 'adr',\n",
              "       'required_car_parking_spaces', 'total_of_special_requests',\n",
              "       'reservation_status', 'reservation_status_date'],\n",
              "      dtype='object')"
            ]
          },
          "metadata": {
            "tags": []
          },
          "execution_count": 6
        }
      ]
    },
    {
      "cell_type": "markdown",
      "metadata": {
        "id": "YA1QrpZEHVEm"
      },
      "source": [
        "Evaluating for Missing Data and performing Data Cleaning\n",
        "\n",
        "Source - https://chartio.com/resources/tutorials/how-to-check-if-any-value-is-nan-in-a-pandas-dataframe/"
      ]
    },
    {
      "cell_type": "code",
      "metadata": {
        "colab": {
          "base_uri": "https://localhost:8080/"
        },
        "id": "CPXtDYUMKq1G",
        "outputId": "0fdeb1d2-351c-499f-f1e5-ef557543e1d1"
      },
      "source": [
        "## Find the missing value, show the total null values for each column and sort it in descending order\n",
        "df.isnull().sum().sort_values(ascending=False)[:10]"
      ],
      "execution_count": null,
      "outputs": [
        {
          "output_type": "execute_result",
          "data": {
            "text/plain": [
              "company                     112593\n",
              "agent                        16340\n",
              "country                        488\n",
              "children                         4\n",
              "lead_time                        0\n",
              "arrival_date_year                0\n",
              "arrival_date_month               0\n",
              "arrival_date_week_number         0\n",
              "is_canceled                      0\n",
              "market_segment                   0\n",
              "dtype: int64"
            ]
          },
          "metadata": {
            "tags": []
          },
          "execution_count": 7
        }
      ]
    },
    {
      "cell_type": "markdown",
      "metadata": {
        "id": "OFQPuik3BzQ4"
      },
      "source": [
        "We have 4 features with missing values.\n",
        "\n",
        "In the agent and the company column, we have id_number for each agent or company, so for all the missing values, we will just replace it with 0."
      ]
    },
    {
      "cell_type": "code",
      "metadata": {
        "id": "o6n2lXBrKz2H",
        "colab": {
          "base_uri": "https://localhost:8080/",
          "height": 404
        },
        "outputId": "4030d063-fb84-4713-9647-605e2b6b6d82"
      },
      "source": [
        "df.loc[:,['company','agent','country','children']]"
      ],
      "execution_count": null,
      "outputs": [
        {
          "output_type": "execute_result",
          "data": {
            "text/html": [
              "<div>\n",
              "<style scoped>\n",
              "    .dataframe tbody tr th:only-of-type {\n",
              "        vertical-align: middle;\n",
              "    }\n",
              "\n",
              "    .dataframe tbody tr th {\n",
              "        vertical-align: top;\n",
              "    }\n",
              "\n",
              "    .dataframe thead th {\n",
              "        text-align: right;\n",
              "    }\n",
              "</style>\n",
              "<table border=\"1\" class=\"dataframe\">\n",
              "  <thead>\n",
              "    <tr style=\"text-align: right;\">\n",
              "      <th></th>\n",
              "      <th>company</th>\n",
              "      <th>agent</th>\n",
              "      <th>country</th>\n",
              "      <th>children</th>\n",
              "    </tr>\n",
              "  </thead>\n",
              "  <tbody>\n",
              "    <tr>\n",
              "      <th>0</th>\n",
              "      <td>NaN</td>\n",
              "      <td>NaN</td>\n",
              "      <td>PRT</td>\n",
              "      <td>0.0</td>\n",
              "    </tr>\n",
              "    <tr>\n",
              "      <th>1</th>\n",
              "      <td>NaN</td>\n",
              "      <td>NaN</td>\n",
              "      <td>PRT</td>\n",
              "      <td>0.0</td>\n",
              "    </tr>\n",
              "    <tr>\n",
              "      <th>2</th>\n",
              "      <td>NaN</td>\n",
              "      <td>NaN</td>\n",
              "      <td>GBR</td>\n",
              "      <td>0.0</td>\n",
              "    </tr>\n",
              "    <tr>\n",
              "      <th>3</th>\n",
              "      <td>NaN</td>\n",
              "      <td>304.0</td>\n",
              "      <td>GBR</td>\n",
              "      <td>0.0</td>\n",
              "    </tr>\n",
              "    <tr>\n",
              "      <th>4</th>\n",
              "      <td>NaN</td>\n",
              "      <td>240.0</td>\n",
              "      <td>GBR</td>\n",
              "      <td>0.0</td>\n",
              "    </tr>\n",
              "    <tr>\n",
              "      <th>...</th>\n",
              "      <td>...</td>\n",
              "      <td>...</td>\n",
              "      <td>...</td>\n",
              "      <td>...</td>\n",
              "    </tr>\n",
              "    <tr>\n",
              "      <th>119385</th>\n",
              "      <td>NaN</td>\n",
              "      <td>394.0</td>\n",
              "      <td>BEL</td>\n",
              "      <td>0.0</td>\n",
              "    </tr>\n",
              "    <tr>\n",
              "      <th>119386</th>\n",
              "      <td>NaN</td>\n",
              "      <td>9.0</td>\n",
              "      <td>FRA</td>\n",
              "      <td>0.0</td>\n",
              "    </tr>\n",
              "    <tr>\n",
              "      <th>119387</th>\n",
              "      <td>NaN</td>\n",
              "      <td>9.0</td>\n",
              "      <td>DEU</td>\n",
              "      <td>0.0</td>\n",
              "    </tr>\n",
              "    <tr>\n",
              "      <th>119388</th>\n",
              "      <td>NaN</td>\n",
              "      <td>89.0</td>\n",
              "      <td>GBR</td>\n",
              "      <td>0.0</td>\n",
              "    </tr>\n",
              "    <tr>\n",
              "      <th>119389</th>\n",
              "      <td>NaN</td>\n",
              "      <td>9.0</td>\n",
              "      <td>DEU</td>\n",
              "      <td>0.0</td>\n",
              "    </tr>\n",
              "  </tbody>\n",
              "</table>\n",
              "<p>119390 rows × 4 columns</p>\n",
              "</div>"
            ],
            "text/plain": [
              "        company  agent country  children\n",
              "0           NaN    NaN     PRT       0.0\n",
              "1           NaN    NaN     PRT       0.0\n",
              "2           NaN    NaN     GBR       0.0\n",
              "3           NaN  304.0     GBR       0.0\n",
              "4           NaN  240.0     GBR       0.0\n",
              "...         ...    ...     ...       ...\n",
              "119385      NaN  394.0     BEL       0.0\n",
              "119386      NaN    9.0     FRA       0.0\n",
              "119387      NaN    9.0     DEU       0.0\n",
              "119388      NaN   89.0     GBR       0.0\n",
              "119389      NaN    9.0     DEU       0.0\n",
              "\n",
              "[119390 rows x 4 columns]"
            ]
          },
          "metadata": {
            "tags": []
          },
          "execution_count": 8
        }
      ]
    },
    {
      "cell_type": "markdown",
      "metadata": {
        "id": "8gz08PfJBg06"
      },
      "source": [
        "We have 4 Column containing null values.\n",
        "\n",
        "\n",
        "Filling missing value with Zero\n",
        "\n",
        "Source - https://datatofish.com/replace-nan-values-with-zeros/"
      ]
    },
    {
      "cell_type": "code",
      "metadata": {
        "id": "5ByreInG_8P3"
      },
      "source": [
        "## If no id of agent or company is null, just replace it with 0\n",
        "\n",
        "df[['agent','company']] = df[['agent','company']].fillna(0.0)"
      ],
      "execution_count": null,
      "outputs": []
    },
    {
      "cell_type": "code",
      "metadata": {
        "id": "EWkVQEn0KSz-"
      },
      "source": [
        "## For the missing values in the country column, replace it with mode (value that appears most often)\n",
        "df['country'].fillna(data.country.mode().to_string(), inplace=True)\n",
        "\n",
        "## for missing children value, replace it with rounded mean value\n",
        "df['children'].fillna(round(data.children.mean()), inplace=True)"
      ],
      "execution_count": null,
      "outputs": []
    },
    {
      "cell_type": "code",
      "metadata": {
        "colab": {
          "base_uri": "https://localhost:8080/"
        },
        "id": "AdExibWWK4tg",
        "outputId": "94620454-f47a-469b-f18f-5474a297ae35"
      },
      "source": [
        "df.dtypes"
      ],
      "execution_count": null,
      "outputs": [
        {
          "output_type": "execute_result",
          "data": {
            "text/plain": [
              "hotel                              object\n",
              "is_canceled                         int64\n",
              "lead_time                           int64\n",
              "arrival_date_year                   int64\n",
              "arrival_date_month                 object\n",
              "arrival_date_week_number            int64\n",
              "arrival_date_day_of_month           int64\n",
              "stays_in_weekend_nights             int64\n",
              "stays_in_week_nights                int64\n",
              "adults                              int64\n",
              "children                          float64\n",
              "babies                              int64\n",
              "meal                               object\n",
              "country                            object\n",
              "market_segment                     object\n",
              "distribution_channel               object\n",
              "is_repeated_guest                   int64\n",
              "previous_cancellations              int64\n",
              "previous_bookings_not_canceled      int64\n",
              "reserved_room_type                 object\n",
              "assigned_room_type                 object\n",
              "booking_changes                     int64\n",
              "deposit_type                       object\n",
              "agent                             float64\n",
              "company                           float64\n",
              "days_in_waiting_list                int64\n",
              "customer_type                      object\n",
              "adr                               float64\n",
              "required_car_parking_spaces         int64\n",
              "total_of_special_requests           int64\n",
              "reservation_status                 object\n",
              "reservation_status_date            object\n",
              "dtype: object"
            ]
          },
          "metadata": {
            "tags": []
          },
          "execution_count": 11
        }
      ]
    },
    {
      "cell_type": "code",
      "metadata": {
        "id": "nrRCt4dnNidj"
      },
      "source": [
        "## convert datatype of these columns from float to integer\n",
        "df[['children', 'company', 'agent']] = df[['children', 'company', 'agent']].astype('int64')"
      ],
      "execution_count": null,
      "outputs": []
    },
    {
      "cell_type": "code",
      "metadata": {
        "id": "Prjt5KJQN2aa"
      },
      "source": [
        "## Drop Rows where there is no adult, baby and child\n",
        "df = df.drop(df[(df.adults+df.babies+df.children)==0].index)"
      ],
      "execution_count": null,
      "outputs": []
    },
    {
      "cell_type": "markdown",
      "metadata": {
        "id": "ILNkzkkpNG02"
      },
      "source": [
        "# 1. **How Many Booking Were Cancelled?**\n"
      ]
    },
    {
      "cell_type": "markdown",
      "metadata": {
        "id": "8bI6IVdPVRUl"
      },
      "source": [
        "Finding unique vlaues in column\n",
        "\n",
        "Source - https://stackoverflow.com/questions/27241253/print-the-unique-values-in-every-column-in-a-pandas-dataframe\n"
      ]
    },
    {
      "cell_type": "code",
      "metadata": {
        "id": "RnEP3WjvnIjv"
      },
      "source": [
        "# Creating a function so that any time we can find unique values by using this function\n",
        "def find_unique(value1):\n",
        "  column_list = df.columns.values.tolist()\n",
        "  for column_name in column_list:\n",
        "    unique_value = value1.unique()\n",
        "    return unique_value"
      ],
      "execution_count": null,
      "outputs": []
    },
    {
      "cell_type": "code",
      "metadata": {
        "colab": {
          "base_uri": "https://localhost:8080/"
        },
        "id": "-3UAoTV0n_vM",
        "outputId": "18fb500b-0509-432d-fd83-5a7ef4adaa1b"
      },
      "source": [
        "find_unique(df['is_canceled'])"
      ],
      "execution_count": null,
      "outputs": [
        {
          "output_type": "execute_result",
          "data": {
            "text/plain": [
              "array([0, 1])"
            ]
          },
          "metadata": {
            "tags": []
          },
          "execution_count": 15
        }
      ]
    },
    {
      "cell_type": "markdown",
      "metadata": {
        "id": "lBnQV3_uYsA9"
      },
      "source": [
        "is_canceled have two unique values: 1 if booking got canceled, else 0.\n",
        "(No = 0, Yes = 1)"
      ]
    },
    {
      "cell_type": "code",
      "metadata": {
        "id": "328f-qFDNF1v"
      },
      "source": [
        "# function to get the percentage of different values.\n",
        "\n",
        "def get_count(series, limit=None):  # Setting default argument of limit as None\n",
        "    \n",
        "    '''\n",
        "    INPUT:\n",
        "        series: Pandas Series \n",
        "        limit:  If value given, limit the output value to first limit samples.\n",
        "    OUTPUT:\n",
        "        x = Unique values\n",
        "        y = Count of unique values\n",
        "    '''\n",
        "    \n",
        "    if limit != None:\n",
        "        series = series.value_counts()[:limit]\n",
        "    else:\n",
        "        series = series.value_counts()\n",
        "    \n",
        "    x = series.index\n",
        "    y = series/series.sum()*100\n",
        "    \n",
        "    return x.values,y.values"
      ],
      "execution_count": null,
      "outputs": []
    },
    {
      "cell_type": "markdown",
      "metadata": {
        "id": "c_q-vJkHXks2"
      },
      "source": [
        "This function takes a series or data frame column and returns the two arrays\n",
        "\n",
        "x is our unique values\n",
        "\n",
        "y is the percentage value of each unique value\n",
        "\n",
        "Now let’s use this function on our is_canceled feature and see the result"
      ]
    },
    {
      "cell_type": "code",
      "metadata": {
        "id": "S4VQzvC8Oszq",
        "colab": {
          "base_uri": "https://localhost:8080/"
        },
        "outputId": "d054fd17-71fe-4cf3-a622-ae54364a142d"
      },
      "source": [
        "x,y = get_count(df['is_canceled'])\n",
        "x,y"
      ],
      "execution_count": null,
      "outputs": [
        {
          "output_type": "execute_result",
          "data": {
            "text/plain": [
              "(array([0, 1]), array([62.92341247, 37.07658753]))"
            ]
          },
          "metadata": {
            "tags": []
          },
          "execution_count": 17
        }
      ]
    },
    {
      "cell_type": "code",
      "metadata": {
        "id": "kA0TfOB1PFMz"
      },
      "source": [
        "def plot(x, y, x_label=None,y_label=None, title=None, figsize=(6,5), type='bar'):\n",
        "    \n",
        "    '''\n",
        "    INPUT:\n",
        "        x:        Array containing values for x-axis\n",
        "        y:        Array containing values for y-axis\n",
        "        x_lable:  String value for x-axis label\n",
        "        y_lable:  String value for y-axis label\n",
        "        title:    String value for plot title\n",
        "        figsize:  tuple value, for figure size\n",
        "        type:     type of plot (default is bar plot)\n",
        "        \n",
        "    OUTPUT:\n",
        "        Display the plot\n",
        "    '''\n",
        "        \n",
        "    fig, ax = plt.subplots(figsize=figsize)\n",
        "    \n",
        "    if x_label != None:\n",
        "        ax.set_xlabel(x_label)\n",
        "    \n",
        "    if y_label != None:\n",
        "        ax.set_ylabel(y_label)\n",
        "        \n",
        "    if title != None:\n",
        "        ax.set_title(title)\n",
        "    \n",
        "    if type == 'bar':\n",
        "        sns.barplot(x,y, ax = ax)\n",
        "    elif type == 'line':\n",
        "        sns.lineplot(x,y, ax = ax)\n",
        "        \n",
        "    plt.show()"
      ],
      "execution_count": null,
      "outputs": []
    },
    {
      "cell_type": "markdown",
      "metadata": {
        "id": "qdMuQ34AG_Tr"
      },
      "source": [
        "**Warnings** **Library**\n",
        "\n",
        "Source - https://stackoverflow.com/questions/15777951/how-to-suppress-pandas-future-warning\n"
      ]
    },
    {
      "cell_type": "code",
      "metadata": {
        "id": "gxBfkkG4Gl3W"
      },
      "source": [
        "# Use the warnings library. Now, true to it's word, the warnings have been removed.\n",
        "import warnings\n",
        "warnings.simplefilter(action='ignore', category=FutureWarning)"
      ],
      "execution_count": null,
      "outputs": []
    },
    {
      "cell_type": "code",
      "metadata": {
        "colab": {
          "base_uri": "https://localhost:8080/",
          "height": 334
        },
        "id": "DMBslaK2Pknn",
        "outputId": "adcdaa9c-4fa1-480a-8d5c-4b2178dc24bc"
      },
      "source": [
        "plot(x,y, x_label='Booking Cancelled (No = 0, Yes = 1)', y_label='Booking Percentage (%)')\n"
      ],
      "execution_count": null,
      "outputs": [
        {
          "output_type": "display_data",
          "data": {
            "image/png": "[encoded data removed]",
            "text/plain": [
              "<Figure size 432x360 with 1 Axes>"
            ]
          },
          "metadata": {
            "tags": [],
            "needs_background": "light"
          }
        }
      ]
    },
    {
      "cell_type": "markdown",
      "metadata": {
        "id": "n-22SuCWki9s"
      },
      "source": [
        "Conclusion - Bookings got canceled 37% of the time. While booking did not get cancelled almost 63% of the time."
      ]
    },
    {
      "cell_type": "markdown",
      "metadata": {
        "id": "U4geR28ok6Os"
      },
      "source": [
        "We will select and store both bookings which did not get canceled or get canceled in variable for future use"
      ]
    },
    {
      "cell_type": "code",
      "metadata": {
        "id": "vtrzFc_WPrxR"
      },
      "source": [
        "# Booking get cenceled\n",
        "df_booking_cenceled = df[df['is_canceled'] == 1]\n",
        "# Bokking not get cenceled\n",
        "df_not_canceled = df[df['is_canceled'] == 0]\n"
      ],
      "execution_count": null,
      "outputs": []
    },
    {
      "cell_type": "code",
      "metadata": {
        "colab": {
          "base_uri": "https://localhost:8080/"
        },
        "id": "SoZsxFtxaehx",
        "outputId": "8a68686f-3be3-431e-feb9-bbdd515cea69"
      },
      "source": [
        "find_unique(df['total_of_special_requests'])"
      ],
      "execution_count": null,
      "outputs": [
        {
          "output_type": "execute_result",
          "data": {
            "text/plain": [
              "array([0, 1, 3, 2, 4, 5])"
            ]
          },
          "metadata": {
            "tags": []
          },
          "execution_count": 22
        }
      ]
    },
    {
      "cell_type": "code",
      "metadata": {
        "colab": {
          "base_uri": "https://localhost:8080/",
          "height": 334
        },
        "id": "2KDxkDcLqOs6",
        "outputId": "d89275fc-fb5f-4d6a-eb68-4f3b47b27d89"
      },
      "source": [
        "# Number of special requests made by the customer\n",
        "x,y = get_count(df['total_of_special_requests'])\n",
        "plot(x,y, x_label='Total Special Booking request', y_label='Booking Percentage (%)')\n"
      ],
      "execution_count": null,
      "outputs": [
        {
          "output_type": "display_data",
          "data": {
            "image/png": "[encoded data removed]",
            "text/plain": [
              "<Figure size 432x360 with 1 Axes>"
            ]
          },
          "metadata": {
            "tags": [],
            "needs_background": "light"
          }
        }
      ]
    },
    {
      "cell_type": "markdown",
      "metadata": {
        "id": "nnwE2iZeY8-t"
      },
      "source": [
        "As we can see here among all one special booking request were made almost 29% of total bookings\n",
        "\n",
        "Two special request were made nearly 10% among all and 3 special request is nearly 1-2%."
      ]
    },
    {
      "cell_type": "code",
      "metadata": {
        "colab": {
          "base_uri": "https://localhost:8080/",
          "height": 335
        },
        "id": "hvV82zN0qzTQ",
        "outputId": "3382deb6-411f-4e67-aee5-01dff7f10e3f"
      },
      "source": [
        "# Seperating special requests by Hotel types\n",
        "plt.subplots(figsize=(7,5))\n",
        "sns.countplot(x='total_of_special_requests', hue='hotel',  data=df_not_canceled);"
      ],
      "execution_count": null,
      "outputs": [
        {
          "output_type": "display_data",
          "data": {
            "image/png": "[encoded data removed]",
            "text/plain": [
              "<Figure size 504x360 with 1 Axes>"
            ]
          },
          "metadata": {
            "tags": [],
            "needs_background": "light"
          }
        }
      ]
    },
    {
      "cell_type": "markdown",
      "metadata": {
        "id": "jj39e42GYtYc"
      },
      "source": [
        "Point - \n",
        "\n",
        "*   As per graph nearly 22 thousands 0 special requests were made in City Hotel and for Resort Hotel this is nearly 15 thousands.\n",
        "*   1 special requests in City Hotel of count nearly 17 thousands and for Resort Hotel it is 9 thousands\n",
        "*   2 special requests in City Hotel of count nearly 7 thousands and for Resort it is 4 thousands.\n",
        "*   3 special requests in City Hotel of count nearly 2 thousands and for Resort it is 1 thousands.\n",
        "*   4 and 5 special requests in City Hotel of count nearly 0-1 thousands and also for Resort it is 0-1 thousands.\n",
        "\n",
        "So here we can analyze that most of the Special requests were for City Hotel only.\n"
      ]
    },
    {
      "cell_type": "markdown",
      "metadata": {
        "id": "DmkAh7GzmGRg"
      },
      "source": [
        "# 2.   What is the booking ratio between Resort Hotel and City Hotel?\n"
      ]
    },
    {
      "cell_type": "code",
      "metadata": {
        "colab": {
          "base_uri": "https://localhost:8080/"
        },
        "id": "zoZ2rCG6lt4i",
        "outputId": "c6bc69f2-375f-4302-d8eb-cd8ade63bfce"
      },
      "source": [
        "# Using earlier function to find unique value lets check the column\n",
        "find_unique(df['hotel'])"
      ],
      "execution_count": null,
      "outputs": [
        {
          "output_type": "execute_result",
          "data": {
            "text/plain": [
              "array(['Resort Hotel', 'City Hotel'], dtype=object)"
            ]
          },
          "metadata": {
            "tags": []
          },
          "execution_count": 25
        }
      ]
    },
    {
      "cell_type": "markdown",
      "metadata": {
        "id": "DPjLjET0qXLI"
      },
      "source": [
        "We can now reuse the functions that we created earlier by passing the dataframe column to get_count() function and pass its result (x and y array) to plot function."
      ]
    },
    {
      "cell_type": "code",
      "metadata": {
        "colab": {
          "base_uri": "https://localhost:8080/",
          "height": 350
        },
        "id": "M3J2zZu5pdMP",
        "outputId": "94132a4c-9fd1-4e80-9425-3136c24e4d2e"
      },
      "source": [
        "# we can use earlier function to get the percentage of different values(Here it is Hotels).\n",
        "x,y = get_count(df_not_canceled['hotel'])\n",
        "plot(x,y, x_label='Hotels', y_label='Total Bookings in percentage', title='Hotel Booking Comparison')"
      ],
      "execution_count": null,
      "outputs": [
        {
          "output_type": "display_data",
          "data": {
            "image/png": "[encoded data removed]",
            "text/plain": [
              "<Figure size 432x360 with 1 Axes>"
            ]
          },
          "metadata": {
            "tags": [],
            "needs_background": "light"
          }
        }
      ]
    },
    {
      "cell_type": "markdown",
      "metadata": {
        "id": "u5t9PVrmHL50"
      },
      "source": [
        "Conclusion - More than 60% of the population booked the City hotel"
      ]
    },
    {
      "cell_type": "markdown",
      "metadata": {
        "id": "XS7UbARUHd2q"
      },
      "source": [
        "# 3. What is the percentage of booking for each year?\n"
      ]
    },
    {
      "cell_type": "code",
      "metadata": {
        "colab": {
          "base_uri": "https://localhost:8080/",
          "height": 350
        },
        "id": "o5ntvoH3GZKw",
        "outputId": "a480991d-68b5-4980-a5de-0598cd6ac4ad"
      },
      "source": [
        "x,y = get_count(df_not_canceled['arrival_date_year'])\n",
        "plot(x,y, x_label='Year', y_label='Total Booking percentage', title='Booking Year Comparison')"
      ],
      "execution_count": null,
      "outputs": [
        {
          "output_type": "display_data",
          "data": {
            "image/png": "[encoded data removed]",
            "text/plain": [
              "<Figure size 432x360 with 1 Axes>"
            ]
          },
          "metadata": {
            "tags": [],
            "needs_background": "light"
          }
        }
      ]
    },
    {
      "cell_type": "markdown",
      "metadata": {
        "id": "dnnrDaseJbLT"
      },
      "source": [
        "Conclusion - Highest Booking was done in 2016 is nearly 48%. It was good as compared to the previous year 2015. But at the very next year in 2017 booking ratio was down by almost 15%."
      ]
    },
    {
      "cell_type": "markdown",
      "metadata": {
        "id": "XY8N09opMGzm"
      },
      "source": [
        "Seperating this by hotels\n",
        "\n",
        "Source - http://alanpryorjr.com/visualizations/seaborn/countplot/countplot/"
      ]
    },
    {
      "cell_type": "code",
      "metadata": {
        "colab": {
          "base_uri": "https://localhost:8080/",
          "height": 335
        },
        "id": "3QdnAaNqI1Ef",
        "outputId": "51a3ae6b-1dd8-447a-cf14-4363857ba4a3"
      },
      "source": [
        "# Booking persentage seperate by year and Hotel type\n",
        "plt.subplots(figsize=(7,5))\n",
        "sns.countplot(x='arrival_date_year', hue='hotel',  data=df_not_canceled);"
      ],
      "execution_count": null,
      "outputs": [
        {
          "output_type": "display_data",
          "data": {
            "image/png": "[encoded data removed]",
            "text/plain": [
              "<Figure size 504x360 with 1 Axes>"
            ]
          },
          "metadata": {
            "tags": [],
            "needs_background": "light"
          }
        }
      ]
    },
    {
      "cell_type": "markdown",
      "metadata": {
        "id": "j_p3DRFLe4CS"
      },
      "source": [
        "Conclusion - Highest Booking were done for City hotel only in 2016 nearly 24 thousands.\n"
      ]
    },
    {
      "cell_type": "markdown",
      "metadata": {
        "id": "kd7Q_xqSPpEa"
      },
      "source": [
        "# 4. Which is the busiest month for hotels?\n"
      ]
    },
    {
      "cell_type": "code",
      "metadata": {
        "id": "akvQR78aN2Jq"
      },
      "source": [
        "Booking_count_of_months = df_not_canceled['arrival_date_month'].value_counts()"
      ],
      "execution_count": null,
      "outputs": []
    },
    {
      "cell_type": "markdown",
      "metadata": {
        "id": "bczeFHo4Rekh"
      },
      "source": [
        "Sorting months in order\n",
        "\n",
        "Source - https://stackoverflow.com/questions/48042915/sort-a-pandass-dataframe-series-by-month-name"
      ]
    },
    {
      "cell_type": "code",
      "metadata": {
        "id": "h5iSeJE1QSo8"
      },
      "source": [
        "new_order = ['January', 'February', 'March', 'April', 'May', 'June', 'July', 'August', 'September', 'October', 'November', 'December']\n",
        "\n",
        "sorted_months = Booking_count_of_months.reindex(new_order)"
      ],
      "execution_count": null,
      "outputs": []
    },
    {
      "cell_type": "code",
      "metadata": {
        "colab": {
          "base_uri": "https://localhost:8080/"
        },
        "id": "eOkqb7udRVFU",
        "outputId": "280f84ab-d833-4969-b821-dcbb56637146"
      },
      "source": [
        "sorted_months"
      ],
      "execution_count": null,
      "outputs": [
        {
          "output_type": "execute_result",
          "data": {
            "text/plain": [
              "January      4115\n",
              "February     5359\n",
              "March        6620\n",
              "April        6560\n",
              "May          7103\n",
              "June         6395\n",
              "July         7907\n",
              "August       8624\n",
              "September    6385\n",
              "October      6901\n",
              "November     4651\n",
              "December     4391\n",
              "Name: arrival_date_month, dtype: int64"
            ]
          },
          "metadata": {
            "tags": []
          },
          "execution_count": 31
        }
      ]
    },
    {
      "cell_type": "code",
      "metadata": {
        "colab": {
          "base_uri": "https://localhost:8080/",
          "height": 404
        },
        "id": "ANMgcfIGRXWO",
        "outputId": "3dba17d9-483a-4c7d-871b-510ca91e7525"
      },
      "source": [
        "# Using Line Plot to display the trend\n",
        "x = sorted_months.index\n",
        "y = sorted_months/sorted_months.sum()*100\n",
        "\n",
        "plot(x, y.values, x_label='Months', y_label='Booking (%)', title='Booking Trend (Monthly)', type='line', figsize=(18,6))\n"
      ],
      "execution_count": null,
      "outputs": [
        {
          "output_type": "display_data",
          "data": {
            "image/png": "[encoded data removed]",
            "text/plain": [
              "<Figure size 1296x432 with 1 Axes>"
            ]
          },
          "metadata": {
            "tags": [],
            "needs_background": "light"
          }
        }
      ]
    },
    {
      "cell_type": "markdown",
      "metadata": {
        "id": "2409o4nrTPHu"
      },
      "source": [
        "Let’s separate the data for each hotel type and then see the trend.\n"
      ]
    },
    {
      "cell_type": "code",
      "metadata": {
        "id": "flQLCsePTa8Q"
      },
      "source": [
        "## Order of months\n",
        "new_order = ['January', 'February', 'March', 'April', 'May', 'June', 'July', 'August', 'September', 'October', \n",
        "             'November', 'December']\n",
        "\n",
        "\n",
        "## Select only City Hotel\n",
        "sorted_months = df_not_canceled.loc[df.hotel=='City Hotel' ,'arrival_date_month'].value_counts().reindex(new_order)\n",
        "\n",
        "x1 = sorted_months.index\n",
        "y1 = sorted_months/sorted_months.sum()*100\n",
        "\n",
        "\n",
        "\n",
        "## Select only Resort Hotel\n",
        "sorted_months = df_not_canceled.loc[df.hotel=='Resort Hotel' ,'arrival_date_month'].value_counts().reindex(new_order)\n",
        "\n",
        "x2 = sorted_months.index\n",
        "y2 = sorted_months/sorted_months.sum()*100"
      ],
      "execution_count": null,
      "outputs": []
    },
    {
      "cell_type": "code",
      "metadata": {
        "id": "DvHCQw3QR9Gx",
        "colab": {
          "base_uri": "https://localhost:8080/",
          "height": 404
        },
        "outputId": "1338701e-512c-46dd-b559-95c88e393a99"
      },
      "source": [
        "## Draw the line plot\n",
        "\n",
        "fig, ax = plt.subplots(figsize=(18,6))\n",
        "\n",
        "ax.set_xlabel('Months')\n",
        "ax.set_ylabel('Booking (%)')\n",
        "ax.set_title('Booking Trend (Monthly)')\n",
        "\n",
        "\n",
        "sns.lineplot(x1, y1.values, label='City Hotel', sort=False)\n",
        "sns.lineplot(x1, y2.values, label='Resort Hotel', sort=False)\n",
        "\n",
        "plt.show()"
      ],
      "execution_count": null,
      "outputs": [
        {
          "output_type": "display_data",
          "data": {
            "image/png": "[encoded data removed]",
            "text/plain": [
              "<Figure size 1296x432 with 1 Axes>"
            ]
          },
          "metadata": {
            "tags": [],
            "needs_background": "light"
          }
        }
      ]
    },
    {
      "cell_type": "markdown",
      "metadata": {
        "id": "6n44LzVwVeh7"
      },
      "source": [
        "Point - As expected, Maybe due to summer and generally warmer months there are more bookings than colder months. July and August has the most bookings and Janurary has the least.\n",
        "\n",
        "There is very slight difference between City Hotel and Resort Hotel for the month of July and August."
      ]
    },
    {
      "cell_type": "markdown",
      "metadata": {
        "id": "UN3lMfstYarS"
      },
      "source": [
        "Conclusion - We can see the trend is kind of similar with a small difference. Resort has more bookings at the start and end of the year, and lower booking in June and September."
      ]
    },
    {
      "cell_type": "markdown",
      "metadata": {
        "id": "vP-EO9tWYgMZ"
      },
      "source": [
        "# 5. From which country most guests come?"
      ]
    },
    {
      "cell_type": "markdown",
      "metadata": {
        "id": "eKygEbOVZNsn"
      },
      "source": [
        "**pycountry** is very useful python package.\n",
        "We will use this package to get country names from country codes\n",
        "\n",
        "Source - https://pypi.org/project/pycountry/"
      ]
    },
    {
      "cell_type": "code",
      "metadata": {
        "id": "fFRi38WSS0v_",
        "colab": {
          "base_uri": "https://localhost:8080/"
        },
        "outputId": "d594340e-e31b-4397-bf03-5e3c7a51328a"
      },
      "source": [
        "# Package not available in Google Colab installing manually\n",
        "!pip install pycountry"
      ],
      "execution_count": null,
      "outputs": [
        {
          "output_type": "stream",
          "text": [
            "Collecting pycountry\n",
            "\u001b[?25l  Downloading https://files.pythonhosted.org/packages/76/73/6f1a412f14f68c273feea29a6ea9b9f1e268177d32e0e69ad6790d306312/pycountry-20.7.3.tar.gz (10.1MB)\n",
            "\u001b[K     |████████████████████████████████| 10.1MB 7.4MB/s \n",
            "\u001b[?25hBuilding wheels for collected packages: pycountry\n",
            "  Building wheel for pycountry (setup.py) ... \u001b[?25l\u001b[?25hdone\n",
            "  Created wheel for pycountry: filename=pycountry-20.7.3-py2.py3-none-any.whl size=10746863 sha256=225b56d5eaa510b5ec5b2290dc9ece24f7c98c022e0e376aae364e332419506e\n",
            "  Stored in directory: /root/.cache/pip/wheels/33/4e/a6/be297e6b83567e537bed9df4a93f8590ec01c1acfbcd405348\n",
            "Successfully built pycountry\n",
            "Installing collected packages: pycountry\n",
            "Successfully installed pycountry-20.7.3\n"
          ],
          "name": "stdout"
        }
      ]
    },
    {
      "cell_type": "code",
      "metadata": {
        "id": "b7_M-yRYZcql"
      },
      "source": [
        "import pycountry as pc"
      ],
      "execution_count": null,
      "outputs": []
    },
    {
      "cell_type": "code",
      "metadata": {
        "colab": {
          "base_uri": "https://localhost:8080/"
        },
        "id": "uf_RV6l-aWW8",
        "outputId": "660dbe58-f502-48f1-d5c7-2a8d36cf5b06"
      },
      "source": [
        "# Reusing get_count function to get the counts of value\n",
        "x,y = get_count(df_not_canceled['country'], limit=10)\n",
        "x,y"
      ],
      "execution_count": null,
      "outputs": [
        {
          "output_type": "execute_result",
          "data": {
            "text/plain": [
              "(array(['PRT', 'GBR', 'FRA', 'ESP', 'DEU', 'IRL', 'ITA', 'BEL', 'NLD',\n",
              "        'USA'], dtype=object),\n",
              " array([33.99342073, 15.6670826 , 13.7224716 , 10.34370999,  9.8316291 ,\n",
              "         4.11933429,  3.93459625,  3.02711112,  2.78079373,  2.57985059]))"
            ]
          },
          "metadata": {
            "tags": []
          },
          "execution_count": 37
        }
      ]
    },
    {
      "cell_type": "markdown",
      "metadata": {
        "id": "Xtpw6czsbK4M"
      },
      "source": [
        "Reference - https://www.programcreek.com/python/example/50402/pycountry.countries"
      ]
    },
    {
      "cell_type": "code",
      "metadata": {
        "colab": {
          "base_uri": "https://localhost:8080/",
          "height": 458
        },
        "id": "fVA5gCARafgV",
        "outputId": "86ce33eb-5332-4d7d-8be7-5c336f235611"
      },
      "source": [
        "# Using list comprehension\n",
        "country_name = [pc.countries.get(alpha_3=name).name for name in x]\n",
        "# Plot function\n",
        "plot(country_name,y, x_label='Countries' , y_label= 'Total Booking Percentage(%)', title='Country-wise comparison', figsize=(15,7))"
      ],
      "execution_count": null,
      "outputs": [
        {
          "output_type": "display_data",
          "data": {
            "image/png": "[encoded data removed]",
            "text/plain": [
              "<Figure size 1080x504 with 1 Axes>"
            ]
          },
          "metadata": {
            "tags": [],
            "needs_background": "light"
          }
        }
      ]
    },
    {
      "cell_type": "markdown",
      "metadata": {
        "id": "7tIgdb0CeG2G"
      },
      "source": [
        "Conclusion - Top countries where 70-80 % of guests are visiting in Portugal, UK, France, Spain and Germany.\n",
        "\n",
        "Portugal is at the top of all these countries and almost double the booking percentage than the UK."
      ]
    },
    {
      "cell_type": "markdown",
      "metadata": {
        "id": "qYOkbFUaffRq"
      },
      "source": [
        "# 6. How Long People Stay in the hotel?\n"
      ]
    },
    {
      "cell_type": "code",
      "metadata": {
        "colab": {
          "base_uri": "https://localhost:8080/",
          "height": 300
        },
        "id": "7IFqIeRNcAHA",
        "outputId": "dae9d01f-c286-470e-e917-fb863b6016ec"
      },
      "source": [
        "df.head()"
      ],
      "execution_count": null,
      "outputs": [
        {
          "output_type": "execute_result",
          "data": {
            "text/html": [
              "<div>\n",
              "<style scoped>\n",
              "    .dataframe tbody tr th:only-of-type {\n",
              "        vertical-align: middle;\n",
              "    }\n",
              "\n",
              "    .dataframe tbody tr th {\n",
              "        vertical-align: top;\n",
              "    }\n",
              "\n",
              "    .dataframe thead th {\n",
              "        text-align: right;\n",
              "    }\n",
              "</style>\n",
              "<table border=\"1\" class=\"dataframe\">\n",
              "  <thead>\n",
              "    <tr style=\"text-align: right;\">\n",
              "      <th></th>\n",
              "      <th>hotel</th>\n",
              "      <th>is_canceled</th>\n",
              "      <th>lead_time</th>\n",
              "      <th>arrival_date_year</th>\n",
              "      <th>arrival_date_month</th>\n",
              "      <th>arrival_date_week_number</th>\n",
              "      <th>arrival_date_day_of_month</th>\n",
              "      <th>stays_in_weekend_nights</th>\n",
              "      <th>stays_in_week_nights</th>\n",
              "      <th>adults</th>\n",
              "      <th>children</th>\n",
              "      <th>babies</th>\n",
              "      <th>meal</th>\n",
              "      <th>country</th>\n",
              "      <th>market_segment</th>\n",
              "      <th>distribution_channel</th>\n",
              "      <th>is_repeated_guest</th>\n",
              "      <th>previous_cancellations</th>\n",
              "      <th>previous_bookings_not_canceled</th>\n",
              "      <th>reserved_room_type</th>\n",
              "      <th>assigned_room_type</th>\n",
              "      <th>booking_changes</th>\n",
              "      <th>deposit_type</th>\n",
              "      <th>agent</th>\n",
              "      <th>company</th>\n",
              "      <th>days_in_waiting_list</th>\n",
              "      <th>customer_type</th>\n",
              "      <th>adr</th>\n",
              "      <th>required_car_parking_spaces</th>\n",
              "      <th>total_of_special_requests</th>\n",
              "      <th>reservation_status</th>\n",
              "      <th>reservation_status_date</th>\n",
              "    </tr>\n",
              "  </thead>\n",
              "  <tbody>\n",
              "    <tr>\n",
              "      <th>0</th>\n",
              "      <td>Resort Hotel</td>\n",
              "      <td>0</td>\n",
              "      <td>342</td>\n",
              "      <td>2015</td>\n",
              "      <td>July</td>\n",
              "      <td>27</td>\n",
              "      <td>1</td>\n",
              "      <td>0</td>\n",
              "      <td>0</td>\n",
              "      <td>2</td>\n",
              "      <td>0</td>\n",
              "      <td>0</td>\n",
              "      <td>BB</td>\n",
              "      <td>PRT</td>\n",
              "      <td>Direct</td>\n",
              "      <td>Direct</td>\n",
              "      <td>0</td>\n",
              "      <td>0</td>\n",
              "      <td>0</td>\n",
              "      <td>C</td>\n",
              "      <td>C</td>\n",
              "      <td>3</td>\n",
              "      <td>No Deposit</td>\n",
              "      <td>0</td>\n",
              "      <td>0</td>\n",
              "      <td>0</td>\n",
              "      <td>Transient</td>\n",
              "      <td>0.0</td>\n",
              "      <td>0</td>\n",
              "      <td>0</td>\n",
              "      <td>Check-Out</td>\n",
              "      <td>2015-07-01</td>\n",
              "    </tr>\n",
              "    <tr>\n",
              "      <th>1</th>\n",
              "      <td>Resort Hotel</td>\n",
              "      <td>0</td>\n",
              "      <td>737</td>\n",
              "      <td>2015</td>\n",
              "      <td>July</td>\n",
              "      <td>27</td>\n",
              "      <td>1</td>\n",
              "      <td>0</td>\n",
              "      <td>0</td>\n",
              "      <td>2</td>\n",
              "      <td>0</td>\n",
              "      <td>0</td>\n",
              "      <td>BB</td>\n",
              "      <td>PRT</td>\n",
              "      <td>Direct</td>\n",
              "      <td>Direct</td>\n",
              "      <td>0</td>\n",
              "      <td>0</td>\n",
              "      <td>0</td>\n",
              "      <td>C</td>\n",
              "      <td>C</td>\n",
              "      <td>4</td>\n",
              "      <td>No Deposit</td>\n",
              "      <td>0</td>\n",
              "      <td>0</td>\n",
              "      <td>0</td>\n",
              "      <td>Transient</td>\n",
              "      <td>0.0</td>\n",
              "      <td>0</td>\n",
              "      <td>0</td>\n",
              "      <td>Check-Out</td>\n",
              "      <td>2015-07-01</td>\n",
              "    </tr>\n",
              "    <tr>\n",
              "      <th>2</th>\n",
              "      <td>Resort Hotel</td>\n",
              "      <td>0</td>\n",
              "      <td>7</td>\n",
              "      <td>2015</td>\n",
              "      <td>July</td>\n",
              "      <td>27</td>\n",
              "      <td>1</td>\n",
              "      <td>0</td>\n",
              "      <td>1</td>\n",
              "      <td>1</td>\n",
              "      <td>0</td>\n",
              "      <td>0</td>\n",
              "      <td>BB</td>\n",
              "      <td>GBR</td>\n",
              "      <td>Direct</td>\n",
              "      <td>Direct</td>\n",
              "      <td>0</td>\n",
              "      <td>0</td>\n",
              "      <td>0</td>\n",
              "      <td>A</td>\n",
              "      <td>C</td>\n",
              "      <td>0</td>\n",
              "      <td>No Deposit</td>\n",
              "      <td>0</td>\n",
              "      <td>0</td>\n",
              "      <td>0</td>\n",
              "      <td>Transient</td>\n",
              "      <td>75.0</td>\n",
              "      <td>0</td>\n",
              "      <td>0</td>\n",
              "      <td>Check-Out</td>\n",
              "      <td>2015-07-02</td>\n",
              "    </tr>\n",
              "    <tr>\n",
              "      <th>3</th>\n",
              "      <td>Resort Hotel</td>\n",
              "      <td>0</td>\n",
              "      <td>13</td>\n",
              "      <td>2015</td>\n",
              "      <td>July</td>\n",
              "      <td>27</td>\n",
              "      <td>1</td>\n",
              "      <td>0</td>\n",
              "      <td>1</td>\n",
              "      <td>1</td>\n",
              "      <td>0</td>\n",
              "      <td>0</td>\n",
              "      <td>BB</td>\n",
              "      <td>GBR</td>\n",
              "      <td>Corporate</td>\n",
              "      <td>Corporate</td>\n",
              "      <td>0</td>\n",
              "      <td>0</td>\n",
              "      <td>0</td>\n",
              "      <td>A</td>\n",
              "      <td>A</td>\n",
              "      <td>0</td>\n",
              "      <td>No Deposit</td>\n",
              "      <td>304</td>\n",
              "      <td>0</td>\n",
              "      <td>0</td>\n",
              "      <td>Transient</td>\n",
              "      <td>75.0</td>\n",
              "      <td>0</td>\n",
              "      <td>0</td>\n",
              "      <td>Check-Out</td>\n",
              "      <td>2015-07-02</td>\n",
              "    </tr>\n",
              "    <tr>\n",
              "      <th>4</th>\n",
              "      <td>Resort Hotel</td>\n",
              "      <td>0</td>\n",
              "      <td>14</td>\n",
              "      <td>2015</td>\n",
              "      <td>July</td>\n",
              "      <td>27</td>\n",
              "      <td>1</td>\n",
              "      <td>0</td>\n",
              "      <td>2</td>\n",
              "      <td>2</td>\n",
              "      <td>0</td>\n",
              "      <td>0</td>\n",
              "      <td>BB</td>\n",
              "      <td>GBR</td>\n",
              "      <td>Online TA</td>\n",
              "      <td>TA/TO</td>\n",
              "      <td>0</td>\n",
              "      <td>0</td>\n",
              "      <td>0</td>\n",
              "      <td>A</td>\n",
              "      <td>A</td>\n",
              "      <td>0</td>\n",
              "      <td>No Deposit</td>\n",
              "      <td>240</td>\n",
              "      <td>0</td>\n",
              "      <td>0</td>\n",
              "      <td>Transient</td>\n",
              "      <td>98.0</td>\n",
              "      <td>0</td>\n",
              "      <td>1</td>\n",
              "      <td>Check-Out</td>\n",
              "      <td>2015-07-03</td>\n",
              "    </tr>\n",
              "  </tbody>\n",
              "</table>\n",
              "</div>"
            ],
            "text/plain": [
              "          hotel  is_canceled  ...  reservation_status  reservation_status_date\n",
              "0  Resort Hotel            0  ...           Check-Out               2015-07-01\n",
              "1  Resort Hotel            0  ...           Check-Out               2015-07-01\n",
              "2  Resort Hotel            0  ...           Check-Out               2015-07-02\n",
              "3  Resort Hotel            0  ...           Check-Out               2015-07-02\n",
              "4  Resort Hotel            0  ...           Check-Out               2015-07-03\n",
              "\n",
              "[5 rows x 32 columns]"
            ]
          },
          "metadata": {
            "tags": []
          },
          "execution_count": 39
        }
      ]
    },
    {
      "cell_type": "code",
      "metadata": {
        "id": "EGuARC25oZ5X"
      },
      "source": [
        "# Simply adding week and weekend nights count and storing in variable\n",
        "total_nights = df_not_canceled['stays_in_weekend_nights']+ df_not_canceled['stays_in_week_nights']"
      ],
      "execution_count": null,
      "outputs": []
    },
    {
      "cell_type": "code",
      "metadata": {
        "colab": {
          "base_uri": "https://localhost:8080/",
          "height": 350
        },
        "id": "jyTYgC6MpEFH",
        "outputId": "b6be7ed7-25a2-48a4-99c2-661943c4597b"
      },
      "source": [
        "# Reusing get_count function to get the counts of value\n",
        "x,y = get_count(total_nights, limit=10)\n",
        "# Plot function\n",
        "plot(x,y, x_label='Number of Nights', y_label='Booking Percentage for Night Stay (%)', title='Night Stay Duration (Top 10)', figsize=(10,5))"
      ],
      "execution_count": null,
      "outputs": [
        {
          "output_type": "display_data",
          "data": {
            "image/png": "[encoded data removed]",
            "text/plain": [
              "<Figure size 720x360 with 1 Axes>"
            ]
          },
          "metadata": {
            "tags": [],
            "needs_background": "light"
          }
        }
      ]
    },
    {
      "cell_type": "markdown",
      "metadata": {
        "id": "gWnC_WDHuo9S"
      },
      "source": [
        "Conclusion - Most people stay for one, two, or three Nights. More than 60% of guests come under these three options.\n"
      ]
    },
    {
      "cell_type": "markdown",
      "metadata": {
        "id": "mpbDz1L7vD_R"
      },
      "source": [
        "Lets seprate and check by hotel type (Resort/City)"
      ]
    },
    {
      "cell_type": "code",
      "metadata": {
        "id": "A4AWAJpuxg4u"
      },
      "source": [
        "#Removing settingwithcopywarning\n",
        "pd.options.mode.chained_assignment = None  # default='warn' https://stackoverflow.com/questions/20625582/how-to-deal-with-settingwithcopywarning-in-pandas"
      ],
      "execution_count": null,
      "outputs": []
    },
    {
      "cell_type": "code",
      "metadata": {
        "colab": {
          "base_uri": "https://localhost:8080/",
          "height": 405
        },
        "id": "1TH0MmWEs6Td",
        "outputId": "31a9a414-dd2f-46d2-e678-3ce482398776"
      },
      "source": [
        "# Instead of using loc we can direct call column using square brackets\n",
        "df_not_canceled['total_nights'] = df_not_canceled['stays_in_weekend_nights']+ df_not_canceled['stays_in_week_nights']\n",
        "fig, ax = plt.subplots(figsize=(12,6))\n",
        "\n",
        "ax.set_title('Hotel wise night stay duration (Top 10)')\n",
        "sns.countplot(x='total_nights', hue='hotel', data=df_not_canceled,\n",
        "              order = df_not_canceled.total_nights.value_counts().iloc[:10].index, ax=ax);"
      ],
      "execution_count": null,
      "outputs": [
        {
          "output_type": "display_data",
          "data": {
            "image/png": "[encoded data removed]",
            "text/plain": [
              "<Figure size 864x432 with 1 Axes>"
            ]
          },
          "metadata": {
            "tags": [],
            "needs_background": "light"
          }
        }
      ]
    },
    {
      "cell_type": "markdown",
      "metadata": {
        "id": "OWZa3n8wyd7r"
      },
      "source": [
        "Conclusion - \n",
        "\n",
        "For Resort hotel, the most popular stay duration is three, two, one, and four days respectively.\n",
        "\n",
        "For City hotel, most popular stay duration is one, two, seven, and three days respectively"
      ]
    },
    {
      "cell_type": "markdown",
      "metadata": {
        "id": "cbZ6rTHEyy7i"
      },
      "source": [
        "# 7. Which was the most booked accommodation type (Single, Couple, Family)?"
      ]
    },
    {
      "cell_type": "code",
      "metadata": {
        "colab": {
          "base_uri": "https://localhost:8080/"
        },
        "id": "9AXIaPBjv7GQ",
        "outputId": "6c2a678f-ef03-4735-8ebb-5c083a1dce12"
      },
      "source": [
        "df.columns"
      ],
      "execution_count": null,
      "outputs": [
        {
          "output_type": "execute_result",
          "data": {
            "text/plain": [
              "Index(['hotel', 'is_canceled', 'lead_time', 'arrival_date_year',\n",
              "       'arrival_date_month', 'arrival_date_week_number',\n",
              "       'arrival_date_day_of_month', 'stays_in_weekend_nights',\n",
              "       'stays_in_week_nights', 'adults', 'children', 'babies', 'meal',\n",
              "       'country', 'market_segment', 'distribution_channel',\n",
              "       'is_repeated_guest', 'previous_cancellations',\n",
              "       'previous_bookings_not_canceled', 'reserved_room_type',\n",
              "       'assigned_room_type', 'booking_changes', 'deposit_type', 'agent',\n",
              "       'company', 'days_in_waiting_list', 'customer_type', 'adr',\n",
              "       'required_car_parking_spaces', 'total_of_special_requests',\n",
              "       'reservation_status', 'reservation_status_date'],\n",
              "      dtype='object')"
            ]
          },
          "metadata": {
            "tags": []
          },
          "execution_count": 44
        }
      ]
    },
    {
      "cell_type": "code",
      "metadata": {
        "id": "drsoA4SwxYf-"
      },
      "source": [
        "## Select single, couple, multiple adults and family\n",
        "single   = df_not_canceled[(df_not_canceled.adults==1) & (df_not_canceled.children==0) & (df_not_canceled.babies==0)]\n",
        "couple   = df_not_canceled[(df_not_canceled.adults==2) & (df_not_canceled.children==0) & (df_not_canceled.babies==0)]\n",
        "family   = df_not_canceled[df_not_canceled.adults + df_not_canceled.children + df_not_canceled.babies > 2]\n"
      ],
      "execution_count": null,
      "outputs": []
    },
    {
      "cell_type": "code",
      "metadata": {
        "colab": {
          "base_uri": "https://localhost:8080/"
        },
        "id": "7EhDxM5ljgnL",
        "outputId": "30eb6705-23f0-41ae-ae9f-046e8d16a20d"
      },
      "source": [
        "## Make the list of Category names, and their total percentage\n",
        "names = ['Single', 'Couple (No Children)', 'Family']\n",
        "count = [single.shape[0],couple.shape[0], family.shape[0]]\n",
        "print(count)\n"
      ],
      "execution_count": null,
      "outputs": [
        {
          "output_type": "stream",
          "text": [
            "[16022, 49136, 9506]\n"
          ],
          "name": "stdout"
        }
      ]
    },
    {
      "cell_type": "code",
      "metadata": {
        "colab": {
          "base_uri": "https://localhost:8080/",
          "height": 444
        },
        "id": "1tcZFi2Tj54r",
        "outputId": "aad988e3-9be6-49e9-8d37-0a64dc26364d"
      },
      "source": [
        "count_percent = [total/df_not_canceled.shape[0]*100 for total in count]\n",
        "\n",
        "## Draw the curve\n",
        "plot(names,count_percent,  y_label='Booking (%)', title='Most booked accommodation', figsize=(10,7))"
      ],
      "execution_count": null,
      "outputs": [
        {
          "output_type": "display_data",
          "data": {
            "image/png": "[encoded data removed]",
            "text/plain": [
              "<Figure size 720x504 with 1 Axes>"
            ]
          },
          "metadata": {
            "tags": [],
            "needs_background": "light"
          }
        }
      ]
    },
    {
      "cell_type": "markdown",
      "metadata": {
        "id": "hvsw-OKJk29C"
      },
      "source": [
        "Conclusion - Couple is the most popular accommodation type. So hotels can make plans accordingly"
      ]
    },
    {
      "cell_type": "markdown",
      "metadata": {
        "id": "Ai9lzZlqnCD-"
      },
      "source": [
        "Final Conclusion:\n",
        "We used the dataset that contains data about hotel bookings\n",
        "We cleaned and preprocessed the data and then we performed the exploratory data analysis to extract information from the data to answer the following questions.\n",
        "\n",
        "1.   How Many Booking Were Cancelled?\n",
        "2.   What is the booking ratio between Resort Hotel and City Hotel?\n",
        "3.   What is the percentage of booking for each year?\n",
        "4.   Which is the busiest month for hotels?\n",
        "5.   From which country most guests come?\n",
        "6.   How Long People Stay in the hotel?\n",
        "7.   Which was the most booked accommodation type (Single, Couple, Family)?"
      ]
    },
    {
      "cell_type": "markdown",
      "metadata": {
        "id": "9SoR_v4NlLx9"
      },
      "source": [
        "Answers :\n",
        "\n",
        "*   Bookings got canceled 37% of the time. While booking did not get cancelled almost 63% of the time.\n",
        "*   There are nearly 59% of 0 Special Request and very less Special requests were made like 1 is 28%, 2 is 10%, 3 is 2% and 4-5 is nearly 0-1%.\n",
        "\n",
        "*   Most of the special requests were made for City Hotel only.\n",
        "\n",
        "*   More than 60% of the population booked the City hotel.\n",
        "*   Highest Booking was done in 2016 is nearly 48%. It was good as compared to the previous year 2015. But at the very next year in 2017 booking ratio was down is at almost 15%.\n",
        "\n",
        "\n",
        "*   Highest Booking were done for City hotel only in 2016 nearly 24 thousands.\n",
        "\n",
        "*   Most bookings were made from July to August maybe due to summer generally warmer months have more booking than colder month And the least bookings were made at the start and end of the year.\n",
        "*   Portugal, the UK, France, Spain and Germany are the top countries from most guests come, more than 80% come from these 5 countries.\n",
        "\n",
        "*   Most people stay for one, two, or three.\n",
        "-> For Resort hotel, the most popular stay duration is three, two, one, and four days respectively.\n",
        "-> For City hotel, most popular stay duration is one, two, seven(week), and three respectively.\n",
        "*   Couple (or 2 adults) is the most popular accommodation type. So hotels can make arrangement plans accordingly.\n",
        "\n",
        "\n",
        "\n",
        "\n",
        "\n",
        "\n",
        "\n"
      ]
    },
    {
      "cell_type": "code",
      "metadata": {
        "id": "HEmNuE9piZjr"
      },
      "source": [
        ""
      ],
      "execution_count": null,
      "outputs": []
    }
  ]
}